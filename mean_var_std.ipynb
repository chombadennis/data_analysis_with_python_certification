{
 "cells": [
  {
   "cell_type": "code",
   "execution_count": 1,
   "id": "62c9fccd-8ae0-4dc8-a8fc-874e5cf82d93",
   "metadata": {},
   "outputs": [],
   "source": [
    "import sys\n",
    "import numpy as np"
   ]
  },
  {
   "cell_type": "code",
   "execution_count": 2,
   "id": "72cfee81-51df-40a3-884f-e4d2cc2df4d4",
   "metadata": {
    "tags": []
   },
   "outputs": [],
   "source": [
    "def calculate():\n",
    "    numbers = []\n",
    "    while len(numbers) != 9:\n",
    "        try:\n",
    "            num = float(input(f\"Enter number {len(numbers) + 1}: \"))\n",
    "            numbers.append(num)\n",
    "        except ValueError:\n",
    "            print(\"Invalid input. Please enter a valid number.\")\n",
    "    ###print (numbers)\n",
    "    \n",
    "    for num in numbers:\n",
    "        matrix =([numbers[0:3], numbers[3:6], numbers[6:9]])\n",
    "    print (matrix)\n",
    "    \n",
    "    mean_axis0 = np.mean(matrix, axis=0)\n",
    "    mean_axis1 = np.mean(matrix, axis=1)\n",
    "    mean_flatt = np.mean(matrix)\n",
    "    variance_axis0 = np.var(matrix, axis=0)\n",
    "    variance_axis1 = np.var(matrix, axis=1)\n",
    "    variance_flatt = np.var(matrix)\n",
    "    std_axis0 = np.std(matrix, axis=0)\n",
    "    std_axis1 = np.std(matrix, axis=1)\n",
    "    std_flatt = np.std(matrix)\n",
    "    max_axis0 = np.max(matrix, axis=0)\n",
    "    max_axis1 = np.max(matrix, axis=1) \n",
    "    max_flatt = np.max(matrix)\n",
    "    min_axis0 = np.min(matrix, axis=0)\n",
    "    min_axis1 = np.min(matrix, axis=1) \n",
    "    min_flatt = np.min(matrix)\n",
    "    sum_axis0 = np.sum(matrix, axis=0)\n",
    "    sum_axis1 = np.sum(matrix, axis=1) \n",
    "    sum_flatt = np.sum(matrix)\n",
    "    \n",
    "    result_dict = {\"Mean \":[[mean_axis0.tolist()], [mean_axis1.tolist()],mean_flatt],\n",
    "                  \"Variance\":[[variance_axis0.tolist()], [variance_axis1.tolist()], variance_flatt],\n",
    "                  \"Standard Deviation\":[[std_axis0.tolist()], [std_axis1.tolist()], std_flatt],\n",
    "                  \"Max\": [[max_axis0.tolist()], [max_axis1.tolist()], max_flatt],\n",
    "                  \"Min\": [[min_axis0.tolist()], [min_axis1.tolist()], min_flatt],\n",
    "                  \"Sum\": [[sum_axis0.tolist()], [sum_axis1.tolist()], sum_flatt]\n",
    "                  }\n",
    "    return result_dict\n",
    "    \n",
    "     \n",
    "    "
   ]
  },
  {
   "cell_type": "code",
   "execution_count": 3,
   "id": "b8bcd4ae-ad9e-4eeb-b42e-40491f720fcb",
   "metadata": {
    "tags": []
   },
   "outputs": [
    {
     "name": "stdin",
     "output_type": "stream",
     "text": [
      "Enter number 1:  0\n",
      "Enter number 2:  1\n",
      "Enter number 3:  2\n",
      "Enter number 4:  3\n",
      "Enter number 5:  4\n",
      "Enter number 6:  5\n",
      "Enter number 7:  6\n",
      "Enter number 8:  7\n",
      "Enter number 9:  8\n"
     ]
    },
    {
     "name": "stdout",
     "output_type": "stream",
     "text": [
      "[[0.0, 1.0, 2.0], [3.0, 4.0, 5.0], [6.0, 7.0, 8.0]]\n"
     ]
    },
    {
     "data": {
      "text/plain": [
       "{'Mean ': [[[3.0, 4.0, 5.0]], [[1.0, 4.0, 7.0]], 4.0],\n",
       " 'Variance': [[[6.0, 6.0, 6.0]],\n",
       "  [[0.6666666666666666, 0.6666666666666666, 0.6666666666666666]],\n",
       "  6.666666666666667],\n",
       " 'Standard Deviation': [[[2.449489742783178,\n",
       "    2.449489742783178,\n",
       "    2.449489742783178]],\n",
       "  [[0.816496580927726, 0.816496580927726, 0.816496580927726]],\n",
       "  2.581988897471611],\n",
       " 'Max': [[[6.0, 7.0, 8.0]], [[2.0, 5.0, 8.0]], 8.0],\n",
       " 'Min': [[[0.0, 1.0, 2.0]], [[0.0, 3.0, 6.0]], 0.0],\n",
       " 'Sum': [[[9.0, 12.0, 15.0]], [[3.0, 12.0, 21.0]], 36.0]}"
      ]
     },
     "execution_count": 3,
     "metadata": {},
     "output_type": "execute_result"
    }
   ],
   "source": [
    "calculate()"
   ]
  },
  {
   "cell_type": "code",
   "execution_count": null,
   "id": "4b846ac3-9c64-4bba-a6a0-0d489992f39e",
   "metadata": {},
   "outputs": [],
   "source": []
  },
  {
   "cell_type": "code",
   "execution_count": null,
   "id": "f416455f-d69d-4891-a930-3d2bbf07abd3",
   "metadata": {
    "tags": []
   },
   "outputs": [],
   "source": []
  },
  {
   "cell_type": "code",
   "execution_count": null,
   "id": "eca8a47c-1a69-4b4c-8445-7955b2331dea",
   "metadata": {},
   "outputs": [],
   "source": []
  },
  {
   "cell_type": "code",
   "execution_count": null,
   "id": "fab140a1-26ac-4901-910f-f44c3cd9f77a",
   "metadata": {},
   "outputs": [],
   "source": []
  },
  {
   "cell_type": "code",
   "execution_count": null,
   "id": "e8a850f7-0eda-40b0-b508-6a0d7486abb4",
   "metadata": {},
   "outputs": [],
   "source": []
  },
  {
   "cell_type": "code",
   "execution_count": null,
   "id": "6e57bc94-25b5-4ca2-8b3d-aaf9dea7aa76",
   "metadata": {},
   "outputs": [],
   "source": []
  },
  {
   "cell_type": "code",
   "execution_count": null,
   "id": "569bac14-76ff-467d-8d05-de17818a0cee",
   "metadata": {},
   "outputs": [],
   "source": []
  },
  {
   "cell_type": "code",
   "execution_count": null,
   "id": "87d1a65f-3a8e-40ae-905f-1cac941510c6",
   "metadata": {},
   "outputs": [],
   "source": []
  },
  {
   "cell_type": "code",
   "execution_count": null,
   "id": "acad5dad-f5d8-431a-a7f3-acf727499d38",
   "metadata": {},
   "outputs": [],
   "source": []
  },
  {
   "cell_type": "code",
   "execution_count": null,
   "id": "246de21a-a005-46a5-a4c8-fea9c7d61ebc",
   "metadata": {},
   "outputs": [],
   "source": []
  },
  {
   "cell_type": "code",
   "execution_count": null,
   "id": "b0a64f93-3280-4de4-973a-86f7e986f059",
   "metadata": {},
   "outputs": [],
   "source": []
  },
  {
   "cell_type": "code",
   "execution_count": null,
   "id": "f7ea80f0-d532-4508-8f9c-11183c753db9",
   "metadata": {},
   "outputs": [],
   "source": []
  },
  {
   "cell_type": "code",
   "execution_count": null,
   "id": "29a67b1e-d9b3-4a99-b10a-c83f997ecc6f",
   "metadata": {},
   "outputs": [],
   "source": []
  },
  {
   "cell_type": "code",
   "execution_count": null,
   "id": "2f826ec1-f2d4-4199-9687-94ca9a6afcdd",
   "metadata": {},
   "outputs": [],
   "source": []
  },
  {
   "cell_type": "code",
   "execution_count": null,
   "id": "34b9702e-dc43-42f3-8189-d2ff709c7c27",
   "metadata": {},
   "outputs": [],
   "source": []
  },
  {
   "cell_type": "code",
   "execution_count": null,
   "id": "3e7cbe55-1346-4a40-878c-5261e83c8807",
   "metadata": {},
   "outputs": [],
   "source": []
  },
  {
   "cell_type": "code",
   "execution_count": null,
   "id": "cdf2f240-a971-455c-8aeb-d1b99ac929bf",
   "metadata": {},
   "outputs": [],
   "source": []
  },
  {
   "cell_type": "code",
   "execution_count": null,
   "id": "38578a9f-519c-4750-b933-380701b2e744",
   "metadata": {},
   "outputs": [],
   "source": []
  },
  {
   "cell_type": "code",
   "execution_count": null,
   "id": "1c94f817-9303-43ca-a31c-1cfb7484c468",
   "metadata": {},
   "outputs": [],
   "source": []
  },
  {
   "cell_type": "code",
   "execution_count": null,
   "id": "dc30ae81-1fec-4e11-b2ea-db8f5abaa3a7",
   "metadata": {},
   "outputs": [],
   "source": []
  },
  {
   "cell_type": "code",
   "execution_count": null,
   "id": "0c46c006-ced0-4601-bad3-07a5341a4ca8",
   "metadata": {},
   "outputs": [],
   "source": []
  },
  {
   "cell_type": "code",
   "execution_count": null,
   "id": "5c59ecc4-15d5-45cf-94db-36b0e5f179f9",
   "metadata": {},
   "outputs": [],
   "source": []
  },
  {
   "cell_type": "code",
   "execution_count": null,
   "id": "d2f4afa0-0dbd-4f92-8663-5aef61ce4523",
   "metadata": {},
   "outputs": [],
   "source": []
  },
  {
   "cell_type": "code",
   "execution_count": null,
   "id": "1236cbaf-ab07-49e5-a03e-1a85b5456818",
   "metadata": {},
   "outputs": [],
   "source": []
  },
  {
   "cell_type": "code",
   "execution_count": null,
   "id": "36be8f6a-1c41-43e4-843f-5b4200beb9e2",
   "metadata": {},
   "outputs": [],
   "source": []
  },
  {
   "cell_type": "code",
   "execution_count": null,
   "id": "c903eef1-ea1c-45f1-88d8-edd170f9b79c",
   "metadata": {},
   "outputs": [],
   "source": []
  },
  {
   "cell_type": "code",
   "execution_count": null,
   "id": "04343b56-a4d8-44df-9f4e-c779eb621875",
   "metadata": {},
   "outputs": [],
   "source": []
  },
  {
   "cell_type": "code",
   "execution_count": null,
   "id": "95f2a4b7-208f-41d5-a065-4f412ed2d7bd",
   "metadata": {},
   "outputs": [],
   "source": []
  },
  {
   "cell_type": "code",
   "execution_count": null,
   "id": "0a96a980-0ff9-4e60-a446-6ff4593faf3a",
   "metadata": {},
   "outputs": [],
   "source": []
  },
  {
   "cell_type": "code",
   "execution_count": null,
   "id": "c9518c72-92f1-4a2e-80c8-9ed8a519c30f",
   "metadata": {},
   "outputs": [],
   "source": []
  },
  {
   "cell_type": "code",
   "execution_count": null,
   "id": "56816eb8-291a-4fef-ab04-a23fd65d110e",
   "metadata": {},
   "outputs": [],
   "source": []
  },
  {
   "cell_type": "code",
   "execution_count": null,
   "id": "483b8502-ab50-4025-9a6a-38563406a26f",
   "metadata": {},
   "outputs": [],
   "source": []
  },
  {
   "cell_type": "code",
   "execution_count": null,
   "id": "db332710-b92b-4fe6-9854-626f105540ee",
   "metadata": {},
   "outputs": [],
   "source": []
  },
  {
   "cell_type": "code",
   "execution_count": null,
   "id": "4021ad76-fa57-4b0e-9abd-c2131742125b",
   "metadata": {},
   "outputs": [],
   "source": []
  },
  {
   "cell_type": "code",
   "execution_count": null,
   "id": "0f186bed-a254-4b14-8e09-55ce41947345",
   "metadata": {},
   "outputs": [],
   "source": []
  },
  {
   "cell_type": "code",
   "execution_count": null,
   "id": "9b4ecdf5-011f-44e3-bff2-7b5b9defd356",
   "metadata": {},
   "outputs": [],
   "source": []
  },
  {
   "cell_type": "code",
   "execution_count": null,
   "id": "e706fedd-35dd-4f0b-8857-ebb1a7d29f87",
   "metadata": {},
   "outputs": [],
   "source": []
  },
  {
   "cell_type": "code",
   "execution_count": null,
   "id": "619a7022-8ed9-457e-adc4-edcdb915364e",
   "metadata": {},
   "outputs": [],
   "source": []
  },
  {
   "cell_type": "code",
   "execution_count": null,
   "id": "c7aa995b-e195-4e71-8676-818469282403",
   "metadata": {},
   "outputs": [],
   "source": []
  },
  {
   "cell_type": "code",
   "execution_count": null,
   "id": "d39e1eec-1c02-46b7-bf4c-90e945339dfb",
   "metadata": {},
   "outputs": [],
   "source": []
  },
  {
   "cell_type": "code",
   "execution_count": null,
   "id": "b48ec322-351a-41ed-98e5-7f6d91df68fc",
   "metadata": {},
   "outputs": [],
   "source": []
  },
  {
   "cell_type": "code",
   "execution_count": null,
   "id": "9e6aabb6-6f5f-431c-a670-afe64f9727bf",
   "metadata": {},
   "outputs": [],
   "source": []
  },
  {
   "cell_type": "code",
   "execution_count": null,
   "id": "6c3fb100-40f2-4e68-835c-017cc8fd5019",
   "metadata": {},
   "outputs": [],
   "source": []
  },
  {
   "cell_type": "code",
   "execution_count": null,
   "id": "34a4285b-fa3d-4e4e-b4ff-7bbd23546d47",
   "metadata": {},
   "outputs": [],
   "source": []
  },
  {
   "cell_type": "code",
   "execution_count": null,
   "id": "d7ff5406-05d4-40c5-add0-f7b2dcbc4ac5",
   "metadata": {},
   "outputs": [],
   "source": []
  },
  {
   "cell_type": "code",
   "execution_count": null,
   "id": "3a13676c-f716-4027-95be-2e8bf353e77a",
   "metadata": {},
   "outputs": [],
   "source": []
  },
  {
   "cell_type": "code",
   "execution_count": null,
   "id": "f13f6813-5830-4cb3-a4bc-3d6206b02851",
   "metadata": {},
   "outputs": [],
   "source": []
  }
 ],
 "metadata": {
  "kernelspec": {
   "display_name": "Python 3 (ipykernel)",
   "language": "python",
   "name": "python3"
  },
  "language_info": {
   "codemirror_mode": {
    "name": "ipython",
    "version": 3
   },
   "file_extension": ".py",
   "mimetype": "text/x-python",
   "name": "python",
   "nbconvert_exporter": "python",
   "pygments_lexer": "ipython3",
   "version": "3.11.5"
  }
 },
 "nbformat": 4,
 "nbformat_minor": 5
}
