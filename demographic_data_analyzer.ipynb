{
 "cells": [
  {
   "cell_type": "code",
   "execution_count": 4,
   "id": "441d4f21-cac9-4f6f-abf9-573b15e6b576",
   "metadata": {
    "tags": []
   },
   "outputs": [],
   "source": [
    "import numpy as np\n",
    "import pandas as pd"
   ]
  },
  {
   "cell_type": "code",
   "execution_count": 5,
   "id": "e4750863-00b2-457a-b367-f7bb6aa0d3b5",
   "metadata": {
    "tags": []
   },
   "outputs": [
    {
     "data": {
      "text/html": [
       "<div>\n",
       "<style scoped>\n",
       "    .dataframe tbody tr th:only-of-type {\n",
       "        vertical-align: middle;\n",
       "    }\n",
       "\n",
       "    .dataframe tbody tr th {\n",
       "        vertical-align: top;\n",
       "    }\n",
       "\n",
       "    .dataframe thead th {\n",
       "        text-align: right;\n",
       "    }\n",
       "</style>\n",
       "<table border=\"1\" class=\"dataframe\">\n",
       "  <thead>\n",
       "    <tr style=\"text-align: right;\">\n",
       "      <th></th>\n",
       "      <th>age</th>\n",
       "      <th>workclass</th>\n",
       "      <th>fnlwgt</th>\n",
       "      <th>education</th>\n",
       "      <th>education-num</th>\n",
       "      <th>marital-status</th>\n",
       "      <th>occupation</th>\n",
       "      <th>relationship</th>\n",
       "      <th>race</th>\n",
       "      <th>sex</th>\n",
       "      <th>capital-gain</th>\n",
       "      <th>capital-loss</th>\n",
       "      <th>hours-per-week</th>\n",
       "      <th>native-country</th>\n",
       "      <th>salary</th>\n",
       "    </tr>\n",
       "  </thead>\n",
       "  <tbody>\n",
       "    <tr>\n",
       "      <th>0</th>\n",
       "      <td>39</td>\n",
       "      <td>State-gov</td>\n",
       "      <td>77516</td>\n",
       "      <td>Bachelors</td>\n",
       "      <td>13</td>\n",
       "      <td>Never-married</td>\n",
       "      <td>Adm-clerical</td>\n",
       "      <td>Not-in-family</td>\n",
       "      <td>White</td>\n",
       "      <td>Male</td>\n",
       "      <td>2174</td>\n",
       "      <td>0</td>\n",
       "      <td>40</td>\n",
       "      <td>United-States</td>\n",
       "      <td>&lt;=50K</td>\n",
       "    </tr>\n",
       "    <tr>\n",
       "      <th>1</th>\n",
       "      <td>50</td>\n",
       "      <td>Self-emp-not-inc</td>\n",
       "      <td>83311</td>\n",
       "      <td>Bachelors</td>\n",
       "      <td>13</td>\n",
       "      <td>Married-civ-spouse</td>\n",
       "      <td>Exec-managerial</td>\n",
       "      <td>Husband</td>\n",
       "      <td>White</td>\n",
       "      <td>Male</td>\n",
       "      <td>0</td>\n",
       "      <td>0</td>\n",
       "      <td>13</td>\n",
       "      <td>United-States</td>\n",
       "      <td>&lt;=50K</td>\n",
       "    </tr>\n",
       "    <tr>\n",
       "      <th>2</th>\n",
       "      <td>38</td>\n",
       "      <td>Private</td>\n",
       "      <td>215646</td>\n",
       "      <td>HS-grad</td>\n",
       "      <td>9</td>\n",
       "      <td>Divorced</td>\n",
       "      <td>Handlers-cleaners</td>\n",
       "      <td>Not-in-family</td>\n",
       "      <td>White</td>\n",
       "      <td>Male</td>\n",
       "      <td>0</td>\n",
       "      <td>0</td>\n",
       "      <td>40</td>\n",
       "      <td>United-States</td>\n",
       "      <td>&lt;=50K</td>\n",
       "    </tr>\n",
       "    <tr>\n",
       "      <th>3</th>\n",
       "      <td>53</td>\n",
       "      <td>Private</td>\n",
       "      <td>234721</td>\n",
       "      <td>11th</td>\n",
       "      <td>7</td>\n",
       "      <td>Married-civ-spouse</td>\n",
       "      <td>Handlers-cleaners</td>\n",
       "      <td>Husband</td>\n",
       "      <td>Black</td>\n",
       "      <td>Male</td>\n",
       "      <td>0</td>\n",
       "      <td>0</td>\n",
       "      <td>40</td>\n",
       "      <td>United-States</td>\n",
       "      <td>&lt;=50K</td>\n",
       "    </tr>\n",
       "    <tr>\n",
       "      <th>4</th>\n",
       "      <td>28</td>\n",
       "      <td>Private</td>\n",
       "      <td>338409</td>\n",
       "      <td>Bachelors</td>\n",
       "      <td>13</td>\n",
       "      <td>Married-civ-spouse</td>\n",
       "      <td>Prof-specialty</td>\n",
       "      <td>Wife</td>\n",
       "      <td>Black</td>\n",
       "      <td>Female</td>\n",
       "      <td>0</td>\n",
       "      <td>0</td>\n",
       "      <td>40</td>\n",
       "      <td>Cuba</td>\n",
       "      <td>&lt;=50K</td>\n",
       "    </tr>\n",
       "    <tr>\n",
       "      <th>...</th>\n",
       "      <td>...</td>\n",
       "      <td>...</td>\n",
       "      <td>...</td>\n",
       "      <td>...</td>\n",
       "      <td>...</td>\n",
       "      <td>...</td>\n",
       "      <td>...</td>\n",
       "      <td>...</td>\n",
       "      <td>...</td>\n",
       "      <td>...</td>\n",
       "      <td>...</td>\n",
       "      <td>...</td>\n",
       "      <td>...</td>\n",
       "      <td>...</td>\n",
       "      <td>...</td>\n",
       "    </tr>\n",
       "    <tr>\n",
       "      <th>32556</th>\n",
       "      <td>27</td>\n",
       "      <td>Private</td>\n",
       "      <td>257302</td>\n",
       "      <td>Assoc-acdm</td>\n",
       "      <td>12</td>\n",
       "      <td>Married-civ-spouse</td>\n",
       "      <td>Tech-support</td>\n",
       "      <td>Wife</td>\n",
       "      <td>White</td>\n",
       "      <td>Female</td>\n",
       "      <td>0</td>\n",
       "      <td>0</td>\n",
       "      <td>38</td>\n",
       "      <td>United-States</td>\n",
       "      <td>&lt;=50K</td>\n",
       "    </tr>\n",
       "    <tr>\n",
       "      <th>32557</th>\n",
       "      <td>40</td>\n",
       "      <td>Private</td>\n",
       "      <td>154374</td>\n",
       "      <td>HS-grad</td>\n",
       "      <td>9</td>\n",
       "      <td>Married-civ-spouse</td>\n",
       "      <td>Machine-op-inspct</td>\n",
       "      <td>Husband</td>\n",
       "      <td>White</td>\n",
       "      <td>Male</td>\n",
       "      <td>0</td>\n",
       "      <td>0</td>\n",
       "      <td>40</td>\n",
       "      <td>United-States</td>\n",
       "      <td>&gt;50K</td>\n",
       "    </tr>\n",
       "    <tr>\n",
       "      <th>32558</th>\n",
       "      <td>58</td>\n",
       "      <td>Private</td>\n",
       "      <td>151910</td>\n",
       "      <td>HS-grad</td>\n",
       "      <td>9</td>\n",
       "      <td>Widowed</td>\n",
       "      <td>Adm-clerical</td>\n",
       "      <td>Unmarried</td>\n",
       "      <td>White</td>\n",
       "      <td>Female</td>\n",
       "      <td>0</td>\n",
       "      <td>0</td>\n",
       "      <td>40</td>\n",
       "      <td>United-States</td>\n",
       "      <td>&lt;=50K</td>\n",
       "    </tr>\n",
       "    <tr>\n",
       "      <th>32559</th>\n",
       "      <td>22</td>\n",
       "      <td>Private</td>\n",
       "      <td>201490</td>\n",
       "      <td>HS-grad</td>\n",
       "      <td>9</td>\n",
       "      <td>Never-married</td>\n",
       "      <td>Adm-clerical</td>\n",
       "      <td>Own-child</td>\n",
       "      <td>White</td>\n",
       "      <td>Male</td>\n",
       "      <td>0</td>\n",
       "      <td>0</td>\n",
       "      <td>20</td>\n",
       "      <td>United-States</td>\n",
       "      <td>&lt;=50K</td>\n",
       "    </tr>\n",
       "    <tr>\n",
       "      <th>32560</th>\n",
       "      <td>52</td>\n",
       "      <td>Self-emp-inc</td>\n",
       "      <td>287927</td>\n",
       "      <td>HS-grad</td>\n",
       "      <td>9</td>\n",
       "      <td>Married-civ-spouse</td>\n",
       "      <td>Exec-managerial</td>\n",
       "      <td>Wife</td>\n",
       "      <td>White</td>\n",
       "      <td>Female</td>\n",
       "      <td>15024</td>\n",
       "      <td>0</td>\n",
       "      <td>40</td>\n",
       "      <td>United-States</td>\n",
       "      <td>&gt;50K</td>\n",
       "    </tr>\n",
       "  </tbody>\n",
       "</table>\n",
       "<p>32561 rows × 15 columns</p>\n",
       "</div>"
      ],
      "text/plain": [
       "       age         workclass  fnlwgt   education  education-num  \\\n",
       "0       39         State-gov   77516   Bachelors             13   \n",
       "1       50  Self-emp-not-inc   83311   Bachelors             13   \n",
       "2       38           Private  215646     HS-grad              9   \n",
       "3       53           Private  234721        11th              7   \n",
       "4       28           Private  338409   Bachelors             13   \n",
       "...    ...               ...     ...         ...            ...   \n",
       "32556   27           Private  257302  Assoc-acdm             12   \n",
       "32557   40           Private  154374     HS-grad              9   \n",
       "32558   58           Private  151910     HS-grad              9   \n",
       "32559   22           Private  201490     HS-grad              9   \n",
       "32560   52      Self-emp-inc  287927     HS-grad              9   \n",
       "\n",
       "           marital-status         occupation   relationship   race     sex  \\\n",
       "0           Never-married       Adm-clerical  Not-in-family  White    Male   \n",
       "1      Married-civ-spouse    Exec-managerial        Husband  White    Male   \n",
       "2                Divorced  Handlers-cleaners  Not-in-family  White    Male   \n",
       "3      Married-civ-spouse  Handlers-cleaners        Husband  Black    Male   \n",
       "4      Married-civ-spouse     Prof-specialty           Wife  Black  Female   \n",
       "...                   ...                ...            ...    ...     ...   \n",
       "32556  Married-civ-spouse       Tech-support           Wife  White  Female   \n",
       "32557  Married-civ-spouse  Machine-op-inspct        Husband  White    Male   \n",
       "32558             Widowed       Adm-clerical      Unmarried  White  Female   \n",
       "32559       Never-married       Adm-clerical      Own-child  White    Male   \n",
       "32560  Married-civ-spouse    Exec-managerial           Wife  White  Female   \n",
       "\n",
       "       capital-gain  capital-loss  hours-per-week native-country salary  \n",
       "0              2174             0              40  United-States  <=50K  \n",
       "1                 0             0              13  United-States  <=50K  \n",
       "2                 0             0              40  United-States  <=50K  \n",
       "3                 0             0              40  United-States  <=50K  \n",
       "4                 0             0              40           Cuba  <=50K  \n",
       "...             ...           ...             ...            ...    ...  \n",
       "32556             0             0              38  United-States  <=50K  \n",
       "32557             0             0              40  United-States   >50K  \n",
       "32558             0             0              40  United-States  <=50K  \n",
       "32559             0             0              20  United-States  <=50K  \n",
       "32560         15024             0              40  United-States   >50K  \n",
       "\n",
       "[32561 rows x 15 columns]"
      ]
     },
     "execution_count": 5,
     "metadata": {},
     "output_type": "execute_result"
    }
   ],
   "source": [
    "df = pd.read_csv('adult.data.csv')\n",
    "df"
   ]
  },
  {
   "cell_type": "code",
   "execution_count": 6,
   "id": "9f93b946-8f96-493d-95d9-c022343c1e63",
   "metadata": {
    "tags": []
   },
   "outputs": [
    {
     "name": "stdout",
     "output_type": "stream",
     "text": [
      "race\n",
      "White                 27816\n",
      "Black                  3124\n",
      "Asian-Pac-Islander     1039\n",
      "Amer-Indian-Eskimo      311\n",
      "Other                   271\n",
      "Name: count, dtype: int64\n"
     ]
    }
   ],
   "source": [
    "count_races = df['race'].value_counts()\n",
    "print(count_races)"
   ]
  },
  {
   "cell_type": "code",
   "execution_count": 7,
   "id": "337ded9c-fd04-465c-ab72-f676fdf7a314",
   "metadata": {
    "tags": []
   },
   "outputs": [],
   "source": [
    "men = df.loc[df['sex']=='Male', ['sex', 'age']] \n",
    "men\n",
    "avg_age_men = men['age'].mean()"
   ]
  },
  {
   "cell_type": "code",
   "execution_count": 10,
   "id": "f07e84b1-3027-4ac0-8af5-1a09ec083973",
   "metadata": {
    "tags": []
   },
   "outputs": [
    {
     "name": "stdout",
     "output_type": "stream",
     "text": [
      "39.4\n"
     ]
    }
   ],
   "source": [
    "male_df = df.loc[df['sex'] == 'Male',['sex', 'age']]\n",
    "male_df\n",
    "avg_age_men = round(male_df['age'].mean(), 1)\n",
    "print(avg_age_men)"
   ]
  },
  {
   "cell_type": "code",
   "execution_count": 11,
   "id": "8170cd5e-0ca4-4140-9823-2eef7e02f835",
   "metadata": {
    "tags": []
   },
   "outputs": [
    {
     "name": "stdout",
     "output_type": "stream",
     "text": [
      "16.4\n"
     ]
    }
   ],
   "source": [
    "bachelors = df.loc[df['education'] == 'Bachelors', 'education']\n",
    "len(bachelors)\n",
    "percentage_bachelors = round((len(bachelors)/len(df.education)) * 100, 1)\n",
    "print(percentage_bachelors)"
   ]
  },
  {
   "cell_type": "code",
   "execution_count": 20,
   "id": "3a1bbbe2-24e8-4925-93b4-e34d2bf8b54e",
   "metadata": {
    "tags": []
   },
   "outputs": [
    {
     "data": {
      "text/plain": [
       "3486"
      ]
     },
     "execution_count": 20,
     "metadata": {},
     "output_type": "execute_result"
    }
   ],
   "source": [
    "graduate = ['Doctorate','Masters', 'Bachelors']\n",
    "grad_total = df.loc[df['education'].isin (options)]\n",
    "grad_salary = grad_total.loc[grad_total['salary'] == '>50K']\n",
    "len(grad_salary)"
   ]
  },
  {
   "cell_type": "code",
   "execution_count": 12,
   "id": "ae647279-4ff1-4100-a09f-648f6cfd831d",
   "metadata": {
    "tags": []
   },
   "outputs": [
    {
     "name": "stdout",
     "output_type": "stream",
     "text": [
      "10.7\n"
     ]
    }
   ],
   "source": [
    "options = ['Doctorate','Masters', 'Bachelors']\n",
    "edu_df = df.loc[df['education'].isin (options)]\n",
    "edu_df\n",
    "g_salary = edu_df.loc[edu_df['salary'] == '>50K']\n",
    "len(g_salary)\n",
    "perc_high = round((len(g_salary)/len(df['education'])) * 100, 1)\n",
    "print(perc_high)                       "
   ]
  },
  {
   "cell_type": "code",
   "execution_count": 12,
   "id": "2f8a05f8-e8bd-4969-8b60-cce3b133c6d3",
   "metadata": {
    "tags": []
   },
   "outputs": [
    {
     "data": {
      "text/plain": [
       "32561"
      ]
     },
     "execution_count": 12,
     "metadata": {},
     "output_type": "execute_result"
    }
   ],
   "source": [
    "len(df['education'])"
   ]
  },
  {
   "cell_type": "code",
   "execution_count": 16,
   "id": "c66c135b-6f8c-47a2-b7d2-94454a3748c4",
   "metadata": {
    "tags": []
   },
   "outputs": [
    {
     "name": "stdout",
     "output_type": "stream",
     "text": [
      "1\n"
     ]
    }
   ],
   "source": [
    "min_hrs = (df['hours-per-week']).min()\n",
    "print(min_hrs)"
   ]
  },
  {
   "cell_type": "code",
   "execution_count": 13,
   "id": "880f4aa1-a7ae-4675-93be-cb916aa61c00",
   "metadata": {
    "tags": []
   },
   "outputs": [
    {
     "name": "stdout",
     "output_type": "stream",
     "text": [
      "13.4\n"
     ]
    }
   ],
   "source": [
    "options = ['Doctorate','Masters', 'Bachelors']\n",
    "eduh_df = df.loc[~df['education'].isin (options)]\n",
    "eduh_df\n",
    "l_salary = eduh_df.loc[eduh_df['salary'] == '>50K']\n",
    "len(l_salary)\n",
    "perc_less = round((len(l_salary)/len(df['education'])) * 100, 1)\n",
    "print(perc_less)"
   ]
  },
  {
   "cell_type": "code",
   "execution_count": 15,
   "id": "d544a4c4-2fab-4e1f-92f8-0333b86e2c7c",
   "metadata": {
    "tags": []
   },
   "outputs": [
    {
     "data": {
      "text/plain": [
       "10.0"
      ]
     },
     "execution_count": 15,
     "metadata": {},
     "output_type": "execute_result"
    }
   ],
   "source": [
    "min_hrs_workers = df.loc[df['hours-per-week']==1]\n",
    "min_hrs_workers \n",
    "min_hrs_workers_high = min_hrs_workers.loc[min_hrs_workers['salary']=='>50K'] \n",
    "min_hrs_workers_high\n",
    "perc_min_hrs_workers_high = round((len(min_hrs_workers_high)/len(min_hrs_workers)) * 100, 1)\n",
    "perc_min_hrs_workers_high"
   ]
  },
  {
   "cell_type": "code",
   "execution_count": 16,
   "id": "67be38d6-e624-426d-bc77-e8684c1b5e19",
   "metadata": {
    "tags": []
   },
   "outputs": [],
   "source": [
    "countries = df['native-country'].value_counts()\n",
    "\n",
    "perc_country = []\n",
    "c = len(df['native-country']) "
   ]
  },
  {
   "cell_type": "code",
   "execution_count": 17,
   "id": "58e8edb6-a60d-45af-8c6b-2eb81af7cab9",
   "metadata": {
    "tags": []
   },
   "outputs": [
    {
     "data": {
      "text/plain": [
       "32561"
      ]
     },
     "execution_count": 17,
     "metadata": {},
     "output_type": "execute_result"
    }
   ],
   "source": [
    "c = df['native-country']\n",
    "len(c)"
   ]
  },
  {
   "cell_type": "code",
   "execution_count": 18,
   "id": "8da4443c-7b61-41fb-98fa-4523ef724254",
   "metadata": {
    "tags": []
   },
   "outputs": [],
   "source": [
    "c = df['native-country']\n",
    "place = df.loc[df['salary']=='>50K']\n",
    "countries = place.value_counts()\n",
    "perc_rep = []\n",
    "for values in countries[0:]:\n",
    "    perc_count = (values/len(place)) * 100\n",
    "    perc_rep.append(perc_count)\n"
   ]
  },
  {
   "cell_type": "code",
   "execution_count": 154,
   "id": "2f0f85ef-1e1d-4a44-932e-d9d6b0ebb547",
   "metadata": {
    "tags": []
   },
   "outputs": [
    {
     "data": {
      "text/plain": [
       "native-country    \n",
       "United-States         7171\n",
       "?                      146\n",
       "Philippines             61\n",
       "Germany                 44\n",
       "India                   40\n",
       "Canada                  39\n",
       "Mexico                  33\n",
       "England                 30\n",
       "Italy                   25\n",
       "Cuba                    25\n",
       "Japan                   24\n",
       "China                   20\n",
       "Taiwan                  20\n",
       "Iran                    18\n",
       "South                   16\n",
       "Poland                  12\n",
       "France                  12\n",
       "Puerto-Rico             12\n",
       "Jamaica                 10\n",
       "El-Salvador              9\n",
       "Greece                   8\n",
       "Cambodia                 7\n",
       "Yugoslavia               6\n",
       "Hong                     6\n",
       "Ireland                  5\n",
       "Vietnam                  5\n",
       "Ecuador                  4\n",
       "Haiti                    4\n",
       "Portugal                 4\n",
       "Scotland                 3\n",
       "Thailand                 3\n",
       "Hungary                  3\n",
       "Guatemala                3\n",
       "Laos                     2\n",
       "Dominican-Republic       2\n",
       "Peru                     2\n",
       "Trinadad&Tobago          2\n",
       "Columbia                 2\n",
       "Nicaragua                2\n",
       "Honduras                 1\n",
       "Name: count, dtype: int64"
      ]
     },
     "execution_count": 154,
     "metadata": {},
     "output_type": "execute_result"
    }
   ],
   "source": [
    "selection = ['>50K']\n",
    "place = df.loc[df['salary']== '>50K', ['native-country']] \n",
    "countries = place.value_counts()\n",
    "new_df = countries.to_frame()\n",
    "new_df['percentage'] = (new_df['count']/len(place)) * 100\n",
    "percentage = new_df['percentage']\n",
    "most = percentage.max()\n",
    "new_df\n",
    "new_df.reset_index()\n",
    "countries[countries>7000]\n",
    "countries"
   ]
  },
  {
   "cell_type": "code",
   "execution_count": 104,
   "id": "f36d1a80-85ac-4b70-930e-e4b256c12bd3",
   "metadata": {
    "tags": []
   },
   "outputs": [],
   "source": [
    "selection = ['>50K']\n",
    "place = df.loc[df['salary'].isin(selection), ['native-country', 'salary']]\n",
    "countries = place.value_counts()\n",
    "new_df = countries.to_frame()"
   ]
  },
  {
   "cell_type": "code",
   "execution_count": 157,
   "id": "f73dddad-9225-4ab5-9d36-5402290f7d93",
   "metadata": {
    "tags": []
   },
   "outputs": [
    {
     "data": {
      "text/plain": [
       "occupation\n",
       "Prof-specialty    25\n",
       "Name: count, dtype: int64"
      ]
     },
     "execution_count": 157,
     "metadata": {},
     "output_type": "execute_result"
    }
   ],
   "source": [
    "selection = ['>50K']\n",
    "india = ['India']\n",
    "india_df = df.loc[df['native-country'].isin(india), ['native-country', 'salary', 'occupation']] \n",
    "india_df\n",
    "india_occup = india_df.loc[india_df['salary'].isin(selection), ['native-country', 'salary', 'occupation']]\n",
    "most_occup = india_occup['occupation'].value_counts().max()\n",
    "most_occup\n",
    "occupation = india_occup['occupation'].value_counts()\n",
    "occupation[occupation>20]"
   ]
  },
  {
   "cell_type": "code",
   "execution_count": null,
   "id": "ed03b9f4-41ce-456c-8866-6335362a684f",
   "metadata": {},
   "outputs": [],
   "source": []
  },
  {
   "cell_type": "code",
   "execution_count": null,
   "id": "0c632444-3a72-4925-b950-26536cfb034d",
   "metadata": {},
   "outputs": [],
   "source": []
  },
  {
   "cell_type": "code",
   "execution_count": null,
   "id": "cff3cc8c-a998-4f23-9117-f5647444a6c5",
   "metadata": {},
   "outputs": [],
   "source": []
  },
  {
   "cell_type": "code",
   "execution_count": null,
   "id": "d23fe1d9-a996-49f3-9c83-42b4676795f7",
   "metadata": {},
   "outputs": [],
   "source": []
  },
  {
   "cell_type": "code",
   "execution_count": null,
   "id": "fc2431ca-615b-4954-aeaf-938fd100953a",
   "metadata": {},
   "outputs": [],
   "source": []
  },
  {
   "cell_type": "code",
   "execution_count": null,
   "id": "42b657d3-5625-4e32-90bd-05626c17af67",
   "metadata": {},
   "outputs": [],
   "source": []
  },
  {
   "cell_type": "code",
   "execution_count": null,
   "id": "99421181-2aeb-41e7-a8e2-a33c0d89175c",
   "metadata": {},
   "outputs": [],
   "source": []
  }
 ],
 "metadata": {
  "kernelspec": {
   "display_name": "Python 3 (ipykernel)",
   "language": "python",
   "name": "python3"
  },
  "language_info": {
   "codemirror_mode": {
    "name": "ipython",
    "version": 3
   },
   "file_extension": ".py",
   "mimetype": "text/x-python",
   "name": "python",
   "nbconvert_exporter": "python",
   "pygments_lexer": "ipython3",
   "version": "3.11.5"
  }
 },
 "nbformat": 4,
 "nbformat_minor": 5
}
